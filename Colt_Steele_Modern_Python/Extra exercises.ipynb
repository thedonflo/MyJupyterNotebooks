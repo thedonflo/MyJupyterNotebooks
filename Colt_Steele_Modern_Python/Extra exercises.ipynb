{
 "cells": [
  {
   "cell_type": "markdown",
   "metadata": {},
   "source": [
    "Write a function called reverse_string which accepts a string and returns a new string with all the characters reversed"
   ]
  },
  {
   "cell_type": "code",
   "execution_count": 5,
   "metadata": {},
   "outputs": [
    {
     "data": {
      "text/plain": [
       "'emosewa'"
      ]
     },
     "execution_count": 5,
     "metadata": {},
     "output_type": "execute_result"
    }
   ],
   "source": [
    "'''\n",
    "reverse_string('awesome') # 'emosewa'\n",
    "reverse_string('Colt') # 'tloC'\n",
    "reverse_string('Elie') # 'eilE'\n",
    "'''\n",
    "\n",
    "# add whatever parameters you deem necessary - good luck!\n",
    "def reverse_string(word):\n",
    "    # implement your function here\n",
    "    reverse = word[::-1]\n",
    "    return reverse\n",
    "\n",
    "\n",
    "#Test\n",
    "reverse_string('awesome')"
   ]
  },
  {
   "cell_type": "markdown",
   "metadata": {},
   "source": [
    "Write a function called list_check, which accepts a list and returns True if each value in the list is a list. \n",
    "Otherwise the function should return False"
   ]
  },
  {
   "cell_type": "code",
   "execution_count": 6,
   "metadata": {},
   "outputs": [
    {
     "data": {
      "text/plain": [
       "False"
      ]
     },
     "execution_count": 6,
     "metadata": {},
     "output_type": "execute_result"
    }
   ],
   "source": [
    "'''\n",
    "list_check([[],[1],[2,3], (1,2)]) # False\n",
    "list_check([1, True, [],[1],[2,3]]) # False\n",
    "list_check([[],[1],[2,3]]) # True\n",
    "'''\n",
    "\n",
    "def list_check(full_list):\n",
    "    if type(full_list) == list:\n",
    "        return all(type(value) == list for value in full_list)\n",
    "    return f\"Value entered is not a list. Please enter correct type\"\n",
    "\n",
    "# Test\n",
    "list_check([[],[1],[2,3], (1,2)])\n",
    "# list_check([1, True, [],[1],[2,3]])\n",
    "# list_check([[],[1],[2,3]])"
   ]
  },
  {
   "cell_type": "markdown",
   "metadata": {},
   "source": [
    "Write a function called remove_every_other that accepts a list and returns a new list with every second value removed"
   ]
  },
  {
   "cell_type": "code",
   "execution_count": 7,
   "metadata": {},
   "outputs": [
    {
     "data": {
      "text/plain": [
       "[5, 2, 1]"
      ]
     },
     "execution_count": 7,
     "metadata": {},
     "output_type": "execute_result"
    }
   ],
   "source": [
    "'''\n",
    "remove_every_other([1,2,3,4,5]) # [1,3,5] \n",
    "remove_every_other([5,1,2,4,1]) # [5,2,1]\n",
    "remove_every_other([1]) # [1] \n",
    "'''\n",
    "\n",
    "def remove_every_other(full_list):\n",
    "    new_list = full_list[::2]\n",
    "    return new_list\n",
    "\n",
    "#Test\n",
    "# remove_every_other([1,2,3,4,5]) # [1,3,5] \n",
    "remove_every_other([5,1,2,4,1]) # [5,2,1]\n",
    "# remove_every_other([1]) # [1] "
   ]
  },
  {
   "cell_type": "markdown",
   "metadata": {},
   "source": [
    "Write a function called sum_pairs which accepts a list and number and returns the first pair of numbers that sum to the number passed to the function."
   ]
  },
  {
   "cell_type": "code",
   "execution_count": 15,
   "metadata": {},
   "outputs": [
    {
     "data": {
      "text/plain": [
       "[]"
      ]
     },
     "execution_count": 15,
     "metadata": {},
     "output_type": "execute_result"
    }
   ],
   "source": [
    "'''\n",
    "sum_pairs([4,2,10,5,1], 6) # [4,2]\n",
    "sum_pairs([11,20,4,2,1,5], 100) # []\n",
    "'''\n",
    "\n",
    "def sum_pairs(full_list, num):\n",
    "    hold = []\n",
    "    for i in full_list:\n",
    "        subt = num - i\n",
    "        if subt in full_list:\n",
    "            return [i, subt]\n",
    "        hold.append(i)\n",
    "    return []\n",
    "        \n",
    "        \n",
    "        \n",
    "\n",
    "# sum_pairs([4,2,10,5,1], 6)\n",
    "sum_pairs([11,20,4,2,1,5], 100)"
   ]
  },
  {
   "cell_type": "markdown",
   "metadata": {},
   "source": [
    "Write a function called **vowel_count** that accepts a string and returns a dictionary with the keys as the vowels and values as the count of times that vowel appears in the string."
   ]
  },
  {
   "cell_type": "code",
   "execution_count": 30,
   "metadata": {},
   "outputs": [
    {
     "data": {
      "text/plain": [
       "{'o': 1}"
      ]
     },
     "execution_count": 30,
     "metadata": {},
     "output_type": "execute_result"
    }
   ],
   "source": [
    "'''\n",
    "vowel_count('awesome') # {'a': 1, 'e': 2, 'o': 1}\n",
    "vowel_count('Elie') # {'e': 2, 'i': 1}\n",
    "vowel_count('Colt') # {'o': 1}\n",
    "'''\n",
    "\n",
    "def vowel_count(chars):\n",
    "    letters = chars.lower()\n",
    "    d = {}\n",
    "    var = ['a','e','i','o','u']\n",
    "    for v in var:\n",
    "        if v in letters:\n",
    "            d[v]=letters.count(v)\n",
    "    return d\n",
    "\n",
    "#Test\n",
    "# vowel_count('awesome')\n",
    "# vowel_count('Elie')\n",
    "vowel_count('Colt')\n",
    "        "
   ]
  },
  {
   "cell_type": "markdown",
   "metadata": {},
   "source": [
    "Write a function called **titleize** which accepts a string of words and returns a new string with the first letter of every word in the string capitalized"
   ]
  },
  {
   "cell_type": "code",
   "execution_count": 51,
   "metadata": {},
   "outputs": [
    {
     "data": {
      "text/plain": [
       "'ONLy CAPITALIZe FIRSt'"
      ]
     },
     "execution_count": 51,
     "metadata": {},
     "output_type": "execute_result"
    }
   ],
   "source": [
    "'''\n",
    "titleize('this is awesome') # \"This Is Awesome\"\n",
    "titleize('oNLy cAPITALIZe fIRSt') # \"ONLy CAPITALIZe FIRSt\"\n",
    "'''\n",
    "\n",
    "def titleize(chars):\n",
    "    chars = chars.split()\n",
    "    for index, item in enumerate(chars):\n",
    "#     for char in chars:\n",
    "        chars[index] = item[0].upper() + item[1:]\n",
    "    return ' '.join(chars)\n",
    "\n",
    "\n",
    "titleize('oNLy cAPITALIZe fIRSt')"
   ]
  },
  {
   "cell_type": "markdown",
   "metadata": {},
   "source": [
    "Write a function called **find_factors** which accepts a number and returns a list of all of the numbers which are is divisible by starting from 1 and going up to the number."
   ]
  },
  {
   "cell_type": "code",
   "execution_count": 2,
   "metadata": {},
   "outputs": [
    {
     "data": {
      "text/plain": [
       "[1, 293, 1097, 321421]"
      ]
     },
     "execution_count": 2,
     "metadata": {},
     "output_type": "execute_result"
    }
   ],
   "source": [
    "'''\n",
    "find_factors(10) # [1,2,5,10 ]\n",
    "find_factors(11) # [1,11]\n",
    "find_factors(111) # [1,3,37,111 ]\n",
    "find_factors(321421) # [1,293,1097,321421 ]\n",
    "find_factors(412146) # [1,2,3,6,7,9,14,18,21,42,63,126,3271,6542,9813,19626,22897,29439,45794,58878,68691,137382,206073,412146]\n",
    "'''\n",
    "\n",
    "def find_factors(num):\n",
    "    return [x for x in range(1, num+1) if num % x == 0]\n",
    "# Extended version using list below\n",
    "#     total = []\n",
    "#     for x in range(1, num+1):\n",
    "#         if num % x == 0:\n",
    "#             total.append(x)\n",
    "#     return total\n",
    "\n",
    "find_factors(321421)"
   ]
  },
  {
   "cell_type": "markdown",
   "metadata": {},
   "source": [
    "Write a function called **includes** which accepts a collection, a value, and an optional starting index. \n",
    "The function should return True if the value exists in the collection when we search starting from the starting index. \n",
    "Otherwise, it should return False.\n",
    "\n",
    "The collection can be a string, a list, or a dictionary. \n",
    "If the collection is a string or array, the third parameter is a starting index for where to search from. \n",
    "If the collection is a dictionary, the function searches for the value among values in the dictionary; \n",
    "since objects have no sort order, the third parameter is ignored.\n"
   ]
  },
  {
   "cell_type": "code",
   "execution_count": 26,
   "metadata": {},
   "outputs": [
    {
     "data": {
      "text/plain": [
       "False"
      ]
     },
     "execution_count": 26,
     "metadata": {},
     "output_type": "execute_result"
    }
   ],
   "source": [
    "'''\n",
    "includes([1, 2, 3], 1) # True \n",
    "includes([1, 2, 3], 1, 2) # False \n",
    "includes({ 'a': 1, 'b': 2 }, 1) # True \n",
    "includes({ 'a': 1, 'b': 2 }, 'a') # False\n",
    "includes('abcd', 'b') # True\n",
    "includes('abcd', 'e') # False\n",
    "'''\n",
    "\n",
    "\n",
    "def includes(a, b, c=0):\n",
    "    if isinstance(a,(list,str)):\n",
    "        if b in a[c:]:\n",
    "            return True\n",
    "        return False\n",
    "    elif isinstance(a,dict):\n",
    "        if b in a.values():\n",
    "            return True\n",
    "        return False\n",
    "    else:\n",
    "        return False\n",
    "    \n",
    "# includes([1, 2, 3], 1)\n",
    "# includes([1, 2, 3], 1, 2)\n",
    "# includes([1, 2, 3], 1, 2) # False \n",
    "# includes({ 'a': 1, 'b': 2 }, 1) # True \n",
    "# includes({ 'a': 1, 'b': 2 }, 'a') # False\n",
    "# includes('abcd', 'b') # True\n",
    "# includes('abcd', 'e') # False"
   ]
  },
  {
   "cell_type": "markdown",
   "metadata": {},
   "source": [
    "Write a function called **repeat** which accepts a string and a number and returns a new string passed to the function repeated the number amount of times. \n",
    "Do not use the built in repeat method!"
   ]
  },
  {
   "cell_type": "code",
   "execution_count": 66,
   "metadata": {},
   "outputs": [
    {
     "data": {
      "text/plain": [
       "''"
      ]
     },
     "execution_count": 66,
     "metadata": {},
     "output_type": "execute_result"
    }
   ],
   "source": [
    "'''\n",
    "repeat('*', 3) # '***' \n",
    "repeat('abc', 2) # 'abcabc' \n",
    "repeat('abc', 0) # ''\n",
    "'''\n",
    "\n",
    "def repeat(a,b):\n",
    "    return a*b\n",
    "\n",
    "# repeat('*', 3)\n",
    "# repeat('abc', 2)\n",
    "repeat('abc', 0)"
   ]
  },
  {
   "cell_type": "markdown",
   "metadata": {},
   "source": [
    "Write a function called **truncate** that will shorten a string to a specified length, and add \"...\" to the end.\n",
    "Given a string and a number *n* characters. For example, truncate(\"long string\", 5) should return a 5 character truncated\n",
    "version of \"long string\". If the string gets truncated, the truncated return string should have a \"...\" at the end.\n",
    "Because of this, the smaller number passed in as scond argument should be 3."
   ]
  },
  {
   "cell_type": "code",
   "execution_count": 87,
   "metadata": {},
   "outputs": [
    {
     "name": "stdout",
     "output_type": "stream",
     "text": [
      "Truncation must be at least 3 characters.\n",
      "Truncation must be at least 3 characters.\n",
      "Truncation must be at least 3 characters.\n",
      "Hel...\n",
      "Problem...\n",
      "Another t...\n",
      "W...\n",
      "...\n",
      "Yo\n",
      "Holy guacamole!\n"
     ]
    }
   ],
   "source": [
    "'''\n",
    "truncate(\"Super cool\", 2) # \"Truncation must be at least 3 characters.\"\n",
    "truncate(\"Super cool\", 1) # \"Truncation must be at least 3 characters.\"\n",
    "truncate(\"Super cool\", 0) # \"Truncation must be at least 3 characters.\"\n",
    "truncate(\"Hello World\", 6) # \"Hel...\"\n",
    "truncate(\"Problem solving is the best!\", 10) # \"Problem...\"\n",
    "truncate(\"Another test\", 12) # \"Another t...\"\n",
    "truncate(\"Woah\", 4) # \"W...\"\n",
    "truncate(\"Woah\", 3) # \"...\"\n",
    "truncate(\"Yo\",100) # \"Yo\"\n",
    "truncate(\"Holy guacamole!\", 152) # \"Holy guacamole!\"\n",
    "'''\n",
    "\n",
    "def truncate(words, num):\n",
    "    if isinstance(num,int):\n",
    "        if num < 3:\n",
    "            return \"Truncation must be at least 3 characters.\"\n",
    "        else:\n",
    "            str_len = len(words) #Length of string\n",
    "            if str_len < num:\n",
    "                return words\n",
    "#             end = str_len - num-2\n",
    "            return f\"{words[:num-3]}...\"\n",
    "    return \"Second positional argument should by a integer\"\n",
    "\n",
    "# print(truncate(\"Super cool\", 2))\n",
    "# print(truncate(\"Super cool\", 1)) \n",
    "# print(truncate(\"Super cool\", 0)) \n",
    "# print(truncate(\"Hello World\", 6))\n",
    "# print(truncate(\"Problem solving is the best!\", 10))\n",
    "# print(truncate(\"Another test\", 12)) \n",
    "# print(truncate(\"Woah\", 4)) \n",
    "# print(truncate(\"Woah\", 3)) \n",
    "# print(truncate(\"Yo\",100))\n",
    "# print(truncate(\"Holy guacamole!\", 152))"
   ]
  }
 ],
 "metadata": {
  "kernelspec": {
   "display_name": "Python 3",
   "language": "python",
   "name": "python3"
  },
  "language_info": {
   "codemirror_mode": {
    "name": "ipython",
    "version": 3
   },
   "file_extension": ".py",
   "mimetype": "text/x-python",
   "name": "python",
   "nbconvert_exporter": "python",
   "pygments_lexer": "ipython3",
   "version": "3.7.4"
  }
 },
 "nbformat": 4,
 "nbformat_minor": 2
}
