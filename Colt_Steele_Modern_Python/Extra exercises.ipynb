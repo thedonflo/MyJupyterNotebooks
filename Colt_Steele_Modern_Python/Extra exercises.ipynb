{
 "cells": [
  {
   "cell_type": "markdown",
   "metadata": {},
   "source": [
    "Write a function called reverse_string which accepts a string and returns a new string with all the characters reversed"
   ]
  },
  {
   "cell_type": "code",
   "execution_count": null,
   "metadata": {},
   "outputs": [],
   "source": [
    "'''\n",
    "reverse_string('awesome') # 'emosewa'\n",
    "reverse_string('Colt') # 'tloC'\n",
    "reverse_string('Elie') # 'eilE'\n",
    "'''\n",
    "\n",
    "# add whatever parameters you deem necessary - good luck!\n",
    "def reverse_string(word):\n",
    "    # implement your function here\n",
    "    reverse = word[::-1]\n",
    "    return reverse\n",
    "\n",
    "\n",
    "#Test\n",
    "reverse_string('awesome')"
   ]
  },
  {
   "cell_type": "markdown",
   "metadata": {},
   "source": [
    "Write a function called list_check, which accepts a list and returns True if each value in the list is a list. \n",
    "Otherwise the function should return False"
   ]
  },
  {
   "cell_type": "code",
   "execution_count": null,
   "metadata": {},
   "outputs": [],
   "source": [
    "'''\n",
    "list_check([[],[1],[2,3], (1,2)]) # False\n",
    "list_check([1, True, [],[1],[2,3]]) # False\n",
    "list_check([[],[1],[2,3]]) # True\n",
    "'''\n",
    "\n",
    "def list_check(full_list):\n",
    "    if type(full_list) == list:\n",
    "        return all(type(value) == list for value in full_list)\n",
    "    return f\"Value entered is not a list. Please enter correct type\"\n",
    "\n",
    "# Test\n",
    "list_check([[],[1],[2,3], (1,2)])\n",
    "# list_check([1, True, [],[1],[2,3]])\n",
    "# list_check([[],[1],[2,3]])"
   ]
  },
  {
   "cell_type": "markdown",
   "metadata": {},
   "source": [
    "Write a function called remove_every_other that accepts a list and returns a new list with every second value removed"
   ]
  },
  {
   "cell_type": "code",
   "execution_count": null,
   "metadata": {},
   "outputs": [],
   "source": [
    "'''\n",
    "remove_every_other([1,2,3,4,5]) # [1,3,5] \n",
    "remove_every_other([5,1,2,4,1]) # [5,2,1]\n",
    "remove_every_other([1]) # [1] \n",
    "'''\n",
    "\n",
    "def remove_every_other(full_list):\n",
    "    new_list = full_list[::2]\n",
    "    return new_list\n",
    "\n",
    "#Test\n",
    "# remove_every_other([1,2,3,4,5]) # [1,3,5] \n",
    "remove_every_other([5,1,2,4,1]) # [5,2,1]\n",
    "# remove_every_other([1]) # [1] "
   ]
  },
  {
   "cell_type": "markdown",
   "metadata": {},
   "source": [
    "Write a function called sum_pairs which accepts a list and number and returns the first pair of numbers that sum to the number passed to the function."
   ]
  },
  {
   "cell_type": "code",
   "execution_count": null,
   "metadata": {},
   "outputs": [],
   "source": [
    "'''\n",
    "sum_pairs([4,2,10,5,1], 6) # [4,2]\n",
    "sum_pairs([11,20,4,2,1,5], 100) # []\n",
    "'''\n",
    "\n",
    "def sum_pairs(full_list, num):\n",
    "    hold = []\n",
    "    for i in full_list:\n",
    "        subt = num - i\n",
    "        if subt in full_list:\n",
    "            return [i, subt]\n",
    "        hold.append(i)\n",
    "    return []\n",
    "        \n",
    "        \n",
    "        \n",
    "\n",
    "# sum_pairs([4,2,10,5,1], 6)\n",
    "sum_pairs([11,20,4,2,1,5], 100)"
   ]
  },
  {
   "cell_type": "markdown",
   "metadata": {},
   "source": [
    "Write a function called **vowel_count** that accepts a string and returns a dictionary with the keys as the vowels and values as the count of times that vowel appears in the string."
   ]
  },
  {
   "cell_type": "code",
   "execution_count": null,
   "metadata": {},
   "outputs": [],
   "source": [
    "'''\n",
    "vowel_count('awesome') # {'a': 1, 'e': 2, 'o': 1}\n",
    "vowel_count('Elie') # {'e': 2, 'i': 1}\n",
    "vowel_count('Colt') # {'o': 1}\n",
    "'''\n",
    "\n",
    "def vowel_count(chars):\n",
    "    letters = chars.lower()\n",
    "    d = {}\n",
    "    var = ['a','e','i','o','u']\n",
    "    for v in var:\n",
    "        if v in letters:\n",
    "            d[v]=letters.count(v)\n",
    "    return d\n",
    "\n",
    "#Test\n",
    "# vowel_count('awesome')\n",
    "# vowel_count('Elie')\n",
    "vowel_count('Colt')\n",
    "        "
   ]
  },
  {
   "cell_type": "markdown",
   "metadata": {},
   "source": [
    "Write a function called **titleize** which accepts a string of words and returns a new string with the first letter of every word in the string capitalized"
   ]
  },
  {
   "cell_type": "code",
   "execution_count": null,
   "metadata": {},
   "outputs": [],
   "source": [
    "'''\n",
    "titleize('this is awesome') # \"This Is Awesome\"\n",
    "titleize('oNLy cAPITALIZe fIRSt') # \"ONLy CAPITALIZe FIRSt\"\n",
    "'''\n",
    "\n",
    "def titleize(chars):\n",
    "    chars = chars.split()\n",
    "    for index, item in enumerate(chars):\n",
    "#     for char in chars:\n",
    "        chars[index] = item[0].upper() + item[1:]\n",
    "    return ' '.join(chars)\n",
    "\n",
    "\n",
    "titleize('oNLy cAPITALIZe fIRSt')"
   ]
  },
  {
   "cell_type": "markdown",
   "metadata": {},
   "source": [
    "Write a function called **find_factors** which accepts a number and returns a list of all of the numbers which are is divisible by starting from 1 and going up to the number."
   ]
  },
  {
   "cell_type": "code",
   "execution_count": null,
   "metadata": {},
   "outputs": [],
   "source": [
    "'''\n",
    "find_factors(10) # [1,2,5,10 ]\n",
    "find_factors(11) # [1,11]\n",
    "find_factors(111) # [1,3,37,111 ]\n",
    "find_factors(321421) # [1,293,1097,321421 ]\n",
    "find_factors(412146) # [1,2,3,6,7,9,14,18,21,42,63,126,3271,6542,9813,19626,22897,29439,45794,58878,68691,137382,206073,412146]\n",
    "'''\n",
    "\n",
    "def find_factors(num):\n",
    "    return [x for x in range(1, num+1) if num % x == 0]\n",
    "# Extended version using list below\n",
    "#     total = []\n",
    "#     for x in range(1, num+1):\n",
    "#         if num % x == 0:\n",
    "#             total.append(x)\n",
    "#     return total\n",
    "\n",
    "find_factors(321421)"
   ]
  },
  {
   "cell_type": "markdown",
   "metadata": {},
   "source": [
    "Write a function called **includes** which accepts a collection, a value, and an optional starting index. \n",
    "The function should return True if the value exists in the collection when we search starting from the starting index. \n",
    "Otherwise, it should return False.\n",
    "\n",
    "The collection can be a string, a list, or a dictionary. \n",
    "If the collection is a string or array, the third parameter is a starting index for where to search from. \n",
    "If the collection is a dictionary, the function searches for the value among values in the dictionary; \n",
    "since objects have no sort order, the third parameter is ignored.\n"
   ]
  },
  {
   "cell_type": "code",
   "execution_count": null,
   "metadata": {},
   "outputs": [],
   "source": [
    "'''\n",
    "includes([1, 2, 3], 1) # True \n",
    "includes([1, 2, 3], 1, 2) # False \n",
    "includes({ 'a': 1, 'b': 2 }, 1) # True \n",
    "includes({ 'a': 1, 'b': 2 }, 'a') # False\n",
    "includes('abcd', 'b') # True\n",
    "includes('abcd', 'e') # False\n",
    "'''\n",
    "\n",
    "\n",
    "def includes(a, b, c=0):\n",
    "    if isinstance(a,(list,str)):\n",
    "        if b in a[c:]:\n",
    "            return True\n",
    "        return False\n",
    "    elif isinstance(a,dict):\n",
    "        if b in a.values():\n",
    "            return True\n",
    "        return False\n",
    "    else:\n",
    "        return False\n",
    "    \n",
    "# includes([1, 2, 3], 1)\n",
    "# includes([1, 2, 3], 1, 2)\n",
    "# includes([1, 2, 3], 1, 2) # False \n",
    "# includes({ 'a': 1, 'b': 2 }, 1) # True \n",
    "# includes({ 'a': 1, 'b': 2 }, 'a') # False\n",
    "# includes('abcd', 'b') # True\n",
    "# includes('abcd', 'e') # False"
   ]
  },
  {
   "cell_type": "markdown",
   "metadata": {},
   "source": [
    "Write a function called **repeat** which accepts a string and a number and returns a new string passed to the function repeated the number amount of times. \n",
    "Do not use the built in repeat method!"
   ]
  },
  {
   "cell_type": "code",
   "execution_count": null,
   "metadata": {},
   "outputs": [],
   "source": [
    "'''\n",
    "repeat('*', 3) # '***' \n",
    "repeat('abc', 2) # 'abcabc' \n",
    "repeat('abc', 0) # ''\n",
    "'''\n",
    "\n",
    "def repeat(a,b):\n",
    "    return a*b\n",
    "\n",
    "# repeat('*', 3)\n",
    "# repeat('abc', 2)\n",
    "repeat('abc', 0)"
   ]
  },
  {
   "cell_type": "markdown",
   "metadata": {},
   "source": [
    "Write a function called **truncate** that will shorten a string to a specified length, and add \"...\" to the end.\n",
    "Given a string and a number *n* characters. For example, truncate(\"long string\", 5) should return a 5 character truncated\n",
    "version of \"long string\". If the string gets truncated, the truncated return string should have a \"...\" at the end.\n",
    "Because of this, the smaller number passed in as scond argument should be 3."
   ]
  },
  {
   "cell_type": "code",
   "execution_count": null,
   "metadata": {},
   "outputs": [],
   "source": [
    "'''\n",
    "truncate(\"Super cool\", 2) # \"Truncation must be at least 3 characters.\"\n",
    "truncate(\"Super cool\", 1) # \"Truncation must be at least 3 characters.\"\n",
    "truncate(\"Super cool\", 0) # \"Truncation must be at least 3 characters.\"\n",
    "truncate(\"Hello World\", 6) # \"Hel...\"\n",
    "truncate(\"Problem solving is the best!\", 10) # \"Problem...\"\n",
    "truncate(\"Another test\", 12) # \"Another t...\"\n",
    "truncate(\"Woah\", 4) # \"W...\"\n",
    "truncate(\"Woah\", 3) # \"...\"\n",
    "truncate(\"Yo\",100) # \"Yo\"\n",
    "truncate(\"Holy guacamole!\", 152) # \"Holy guacamole!\"\n",
    "'''\n",
    "\n",
    "def truncate(words, num):\n",
    "    if isinstance(num,int):\n",
    "        if num < 3:\n",
    "            return \"Truncation must be at least 3 characters.\"\n",
    "        else:\n",
    "            str_len = len(words) #Length of string\n",
    "            if str_len < num:\n",
    "                return words\n",
    "#             end = str_len - num-2\n",
    "            return f\"{words[:num-3]}...\"\n",
    "    return \"Second positional argument should by a integer\"\n",
    "\n",
    "# print(truncate(\"Super cool\", 2))\n",
    "# print(truncate(\"Super cool\", 1)) \n",
    "# print(truncate(\"Super cool\", 0)) \n",
    "# print(truncate(\"Hello World\", 6))\n",
    "# print(truncate(\"Problem solving is the best!\", 10))\n",
    "# print(truncate(\"Another test\", 12)) \n",
    "# print(truncate(\"Woah\", 4)) \n",
    "# print(truncate(\"Woah\", 3)) \n",
    "# print(truncate(\"Yo\",100))\n",
    "# print(truncate(\"Holy guacamole!\", 152))"
   ]
  },
  {
   "cell_type": "markdown",
   "metadata": {},
   "source": [
    "Write a function called **two_list_dictionary** which accepts two lists of varying lengths.The first list consists of keys and the second one consists of values. Your function should return a dictionary created from the keys and values. If there are not enough values, the remaining keys should have a value of null. If there not enough keys, just ignore the remaining values."
   ]
  },
  {
   "cell_type": "code",
   "execution_count": null,
   "metadata": {},
   "outputs": [],
   "source": [
    "'''\n",
    "two_list_dictionary(['a', 'b', 'c', 'd'], [1, 2, 3]) # {'a': 1, 'b': 2, 'c': 3, 'd': None}\n",
    "two_list_dictionary(['a', 'b', 'c']  , [1, 2, 3, 4]) # {'a': 1, 'b': 2, 'c': 3}\n",
    "two_list_dictionary(['x', 'y', 'z']  , [1,2]) # {'x': 1, 'y': 2, 'z': None}\n",
    "'''\n",
    "\n",
    "def two_list_dictionary(lt1, lt2):\n",
    "    if isinstance(lt1, list) and isinstance(lt2, list):\n",
    "        if len(lt1) > len(lt2):\n",
    "            lt2.append(None)\n",
    "            return dict(zip(lt1,lt2))\n",
    "        return dict(zip(lt1,lt2))\n",
    "    return \"Both parameters must be of list type\"\n",
    "\n",
    "print(two_list_dictionary(['a', 'b', 'c', 'd'], [1, 2, 3]))\n",
    "print(two_list_dictionary(['a', 'b', 'c']  , [1, 2, 3, 4]))\n",
    "print(two_list_dictionary(['x', 'y', 'z']  , [1,2]))"
   ]
  },
  {
   "cell_type": "markdown",
   "metadata": {},
   "source": [
    "Write a function called **range_in_list** which accepts a list and start and end indices, \n",
    "and returns the sum of the values between (and including) the start and end index.\n",
    "\n",
    "If a start parameter is not passed in, it should default to zero. If an end parameter is not passed in, \n",
    "it should default to the last value in the list. Also, if the end argument is too large, the sum should \n",
    "still go through the end of the list."
   ]
  },
  {
   "cell_type": "code",
   "execution_count": null,
   "metadata": {},
   "outputs": [],
   "source": [
    "'''\n",
    "range_in_list([1,2,3,4],0,2) #  6\n",
    "range_in_list([1,2,3,4],0,3) # 10\n",
    "range_in_list([1,2,3,4],1) #  9\n",
    "range_in_list([1,2,3,4]) # 10\n",
    "range_in_list([1,2,3,4],0,100) # 10\n",
    "range_in_list([],0,1) # 0\n",
    "'''\n",
    "\n",
    "def range_in_list(*args):\n",
    "    if isinstance(args[0], list):\n",
    "        full_list = args[0]\n",
    "        if len(args) == 1:\n",
    "            return sum(full_list)\n",
    "        elif len(args) == 2:\n",
    "            return sum(full_list[args[1]:])\n",
    "        else:\n",
    "            full_list = args[0]\n",
    "            return sum(full_list[args[1]:args[2]+1])\n",
    "    return \"First value must be a list type\"\n",
    "\n",
    "print(range_in_list([1,2,3,4],0,2))\n",
    "print(range_in_list([1,2,3,4],0,3))\n",
    "print(range_in_list([1,2,3,4],1))\n",
    "print(range_in_list([1,2,3,4]))\n",
    "print(range_in_list([1,2,3,4],0,100))\n",
    "print(range_in_list([],0,1))"
   ]
  },
  {
   "cell_type": "markdown",
   "metadata": {},
   "source": [
    "Write a function called **same_frequency** which accepts two numbers and returns True if they contain the same frequency of digits. Otherwise, it returns False"
   ]
  },
  {
   "cell_type": "code",
   "execution_count": null,
   "metadata": {},
   "outputs": [],
   "source": [
    "'''\n",
    "same_frequency(551122,221515) # True\n",
    "same_frequency(321142,3212215) # False\n",
    "same_frequency(1212, 2211) # True\n",
    "'''\n",
    "\n",
    "def same_frequency(var1, var2):\n",
    "    var01 = list(str(var1))\n",
    "    var01.sort()\n",
    "    var02 = list(str(var2))\n",
    "    var02.sort()\n",
    "    return var01 == var02\n",
    "        \n",
    "\n",
    "print(same_frequency(551122,221515))\n",
    "print(same_frequency(321142,3212215))\n",
    "print(same_frequency(1212, 2211))"
   ]
  },
  {
   "cell_type": "markdown",
   "metadata": {},
   "source": [
    "Write a function called **nth**, which accepts a list and a number and returns the element at whatever index is the number in the list. If the number is negative, the nth element from the end is returned.\n",
    "\n",
    "You can assume that number will always be between the negative value of the list length, and the list length minus 1."
   ]
  },
  {
   "cell_type": "code",
   "execution_count": null,
   "metadata": {},
   "outputs": [],
   "source": [
    "'''\n",
    "nth(['a', 'b', 'c', 'd'], 1)  # 'b' \n",
    "nth(['a', 'b', 'c', 'd'], -2) #  'c'\n",
    "nth(['a', 'b', 'c', 'd'], 0)  # 'a'\n",
    "nth(['a', 'b', 'c', 'd'], -4) #  'a'\n",
    "nth(['a', 'b', 'c', 'd'], -1) #  'd'\n",
    "nth(['a', 'b', 'c', 'd'], 3)  # 'd'\n",
    "'''\n",
    "\n",
    "def nth(var1, var2):\n",
    "    return var1[var2]\n",
    "        \n",
    "\n",
    "print(nth(['a', 'b', 'c', 'd'], 1))\n",
    "print(nth(['a', 'b', 'c', 'd'], -2))\n",
    "print(nth(['a', 'b', 'c', 'd'], 0))\n",
    "print(nth(['a', 'b', 'c', 'd'], -4))\n",
    "print(nth(['a', 'b', 'c', 'd'], -1))\n",
    "print(nth(['a', 'b', 'c', 'd'], 3))"
   ]
  },
  {
   "cell_type": "markdown",
   "metadata": {},
   "source": [
    "Write a function called **find_the_duplicate** which accepts an array of numbers containing a single duplicate. The function returns the number which is a duplicate or None if there are no duplicates"
   ]
  },
  {
   "cell_type": "code",
   "execution_count": null,
   "metadata": {},
   "outputs": [],
   "source": [
    "'''\n",
    "find_the_duplicate([1,2,1,4,3,12]) # 1\n",
    "find_the_duplicate([6,1,9,5,3,4,9]) # 9\n",
    "find_the_duplicate([2,1,3,4]) # None\n",
    "'''\n",
    "\n",
    "def find_the_duplicate(var):\n",
    "    setvar= set(var)\n",
    "    if len(var) == len(setvar):\n",
    "        return None\n",
    "    else:\n",
    "        for i in setvar:\n",
    "            if var.count(i) > 1:\n",
    "                return i\n",
    "        return None\n",
    "print(find_the_duplicate([1,2,1,4,3,12]))\n",
    "print(find_the_duplicate([6,1,9,5,3,4,9]))\n",
    "print(find_the_duplicate([2,1,3,4]))"
   ]
  },
  {
   "cell_type": "markdown",
   "metadata": {},
   "source": [
    "Write a function called **sum_up_diagonals** which accepts an NxN list of lists and sums the two main diagonals in the arrary: the one from the upper left to the lower right, and the one from the upper right to the lower left."
   ]
  },
  {
   "cell_type": "code",
   "execution_count": null,
   "metadata": {},
   "outputs": [],
   "source": [
    "'''\n",
    "EXAMPLES:\n",
    "\n",
    "\n",
    "list1 = [\n",
    "  [ 1, 2 ],\n",
    "  [ 3, 4 ]\n",
    "]\n",
    " \n",
    "sum_up_diagonals(list1) # 10\n",
    "\n",
    "list2 = [\n",
    "  [ 1, 2, 3 ],\n",
    "  [ 4, 5, 6 ],\n",
    "  [ 7, 8, 9 ]\n",
    "]\n",
    " \n",
    "sum_up_diagonals(list2) # 30\n",
    " \n",
    "list3 = [\n",
    "  [ 4, 1, 0 ],\n",
    "  [ -1, -1, 0],\n",
    "  [ 0, 0, 9]\n",
    "]\n",
    "\n",
    "sum_up_diagonals(list3) # 11\n",
    "\n",
    "list4 = [\n",
    "  [ 1, 2, 3, 4 ],\n",
    "  [ 5, 6, 7, 8 ],\n",
    "  [ 9, 10, 11, 12 ],\n",
    "  [ 13, 14, 15, 16 ]\n",
    "]\n",
    " \n",
    "sum_up_diagonals(list4) # 68\n",
    "'''\n",
    "\n",
    "def sum_up_diagonals(var):\n",
    "    final = 0\n",
    "    cnt_pos = 0\n",
    "    cnt_neg = -1\n",
    "    for i in var:\n",
    "        final = final + i[cnt_pos] + i[cnt_neg]\n",
    "        cnt_pos += 1\n",
    "        cnt_neg -= 1\n",
    "    return final\n",
    "\n",
    "\n",
    "list1 = [\n",
    "  [ 1, 2 ],\n",
    "  [ 3, 4 ]\n",
    "]\n",
    " \n",
    "sum_up_diagonals(list1)"
   ]
  },
  {
   "cell_type": "code",
   "execution_count": null,
   "metadata": {},
   "outputs": [],
   "source": [
    "list1 = [\n",
    "  [ 1, 2 ],\n",
    "  [ 3, 4 ]\n",
    "]\n",
    "\n",
    "cnt = 0\n",
    "final = []\n",
    "while cnt < len(list1):\n",
    "    print (list1[cnt][cnt])\n",
    "    cnt += 1\n",
    "    \n",
    "final.append\n",
    "final"
   ]
  },
  {
   "cell_type": "markdown",
   "metadata": {},
   "source": [
    "Write a function called **min_max_key_in_dictionary** which returns a list with the lowest key in the dictionary and the highest key in the dictionary. You can assume that the dictionary will have keys that are numbers."
   ]
  },
  {
   "cell_type": "code",
   "execution_count": null,
   "metadata": {},
   "outputs": [],
   "source": [
    "'''\n",
    "min_max_key_in_dictionary({2:'a', 7:'b', 1:'c',10:'d',4:'e'}) # [1,10]\n",
    "min_max_key_in_dictionary({1: \"Elie\", 4:\"Matt\", 2: \"Tim\"}) # [1,4]\n",
    "'''\n",
    "\n",
    "def min_max_key_in_dictionary(var):\n",
    "    stg = []\n",
    "    for i in var.keys():\n",
    "        stg.append(i)\n",
    "    return [min(stg),max(stg)]"
   ]
  },
  {
   "cell_type": "markdown",
   "metadata": {},
   "source": [
    "Write a function called **find_greater_numbers** which accepts a list and returns the number of times a number is followed by a larger number across the entire list."
   ]
  },
  {
   "cell_type": "code",
   "execution_count": null,
   "metadata": {},
   "outputs": [],
   "source": [
    "'''\n",
    "find_greater_numbers([1,2,3]) # 3 \n",
    "find_greater_numbers([6,1,2,7]) # 4\n",
    "find_greater_numbers([5,4,3,2,1]) # 0\n",
    "find_greater_numbers([]) # 0\n",
    "'''\n",
    "\n",
    "def find_greater_numbers(var):\n",
    "    cnt = 0\n",
    "    i = 0\n",
    "    j = 1\n",
    "    while i < len(var):\n",
    "        while j < len(var):\n",
    "            if var[j] > var[i]:\n",
    "                cnt += 1\n",
    "            j += 1\n",
    "        j = i + 1\n",
    "        i += 1\n",
    "    return cnt"
   ]
  },
  {
   "cell_type": "markdown",
   "metadata": {},
   "source": [
    "Write a function called **two_oldest.** The function should take a list of numbers as its arguments and return the **two highest numbers within the list.** The returned value should be a list in the format \\[second oldest age, oldest age\\]."
   ]
  },
  {
   "cell_type": "code",
   "execution_count": null,
   "metadata": {},
   "outputs": [],
   "source": [
    "'''\n",
    "two_oldest_ages( [1, 2, 10, 8] ) # [8, 10]\n",
    "two_oldest_ages( [6,1,9,10,4] ) # [9,10]\n",
    "two_oldest_ages( [4,25,3,20,19,5] ) # [20,25]\n",
    "'''\n",
    "\n",
    "def two_oldest_ages(var):\n",
    "    var.sort()\n",
    "    return var[-2:]\n",
    "\n"
   ]
  },
  {
   "cell_type": "markdown",
   "metadata": {},
   "source": [
    "Write a function called **is_odd_string** which returns true if sum of each character's position in the alphabet is odd. For example, \"a\" is in the first position, \"b\" is in the second position, and so on. If the sum is even, return false.\n",
    "\n",
    "NOTE: INDEXING STARTS AT 1. A is position 1, NOT POSITION 0."
   ]
  },
  {
   "cell_type": "code",
   "execution_count": null,
   "metadata": {},
   "outputs": [],
   "source": [
    "'''\n",
    "is_odd_string('a') # True\n",
    "is_odd_string('aaaa') # False\n",
    "is_odd_string('amazing') # True\n",
    "is_odd_string('veryfun') # True\n",
    "is_odd_string('veryfunny') # False\n",
    "'''\n",
    "\n",
    "def is_odd_string(var):\n",
    "    total = sum(ord(i) for i in var)\n",
    "    return total % 2 == 1\n",
    "#     ctn = 0\n",
    "#     for i in var:\n",
    "#         cnt += ord(i)\n",
    "#     if cnt % 2 == 0:\n",
    "#         return False\n",
    "#     return True\n",
    "\n",
    "is_odd_string('veryfunny')"
   ]
  },
  {
   "cell_type": "markdown",
   "metadata": {},
   "source": [
    "Write a function called **valid_parentheses** that takes a string of parentheses, and determines if the order of the parentheses is valid.\n",
    "**valid_parentheses** should return true if the string is valid, and false if it's invalid."
   ]
  },
  {
   "cell_type": "code",
   "execution_count": 9,
   "metadata": {},
   "outputs": [
    {
     "data": {
      "text/plain": [
       "True"
      ]
     },
     "execution_count": 9,
     "metadata": {},
     "output_type": "execute_result"
    }
   ],
   "source": [
    "'''\n",
    "valid_parentheses(\"()\") # True \n",
    "valid_parentheses(\")(()))\") # False \n",
    "valid_parentheses(\"(\") # False \n",
    "valid_parentheses(\"(())((()())())\") # True \n",
    "valid_parentheses('))((') # False\n",
    "valid_parentheses('())(') # False\n",
    "valid_parentheses('()()()()())()(') # False\n",
    "'''\n",
    "\n",
    "def valid_parentheses(var):\n",
    "    count = 0\n",
    "    i = 0\n",
    "    while i < len(parens):\n",
    "        if (parens[i] == '('):\n",
    "            count += 1\n",
    "        if (parens[i] == ')'):\n",
    "            count -= 1\n",
    "        if (count < 0):\n",
    "            return False\n",
    "        i += 1\n",
    "    return count == 0\n",
    "\n",
    "valid_parentheses(\"(\")"
   ]
  },
  {
   "cell_type": "markdown",
   "metadata": {},
   "source": [
    "Write a function called **reverse_vowels.** This function should reverse the vowels in a string. Any characters which are not vowels should remain in their original position. You should not consider \"y\" to be a vowel."
   ]
  },
  {
   "cell_type": "code",
   "execution_count": 31,
   "metadata": {},
   "outputs": [
    {
     "name": "stdout",
     "output_type": "stream",
     "text": [
      "{23: 'e', 11: 'e', 9: 'e', 6: 'o', 3: 'e', 1: 'i'}\n"
     ]
    },
    {
     "data": {
      "text/plain": [
       "'Riverso Vewels In A Streng'"
      ]
     },
     "execution_count": 31,
     "metadata": {},
     "output_type": "execute_result"
    }
   ],
   "source": [
    "'''\n",
    "reverse_vowels(\"Hello!\") # \"Holle!\" \n",
    "reverse_vowels(\"Tomatoes\") # \"Temotaos\" \n",
    "reverse_vowels(\"Reverse Vowels In A String\") # \"RivArsI Vewols en e Streng\"\n",
    "reverse_vowels(\"aeiou\") # \"uoiea\"\n",
    "reverse_vowels(\"why try, shy fly?\") # \"why try, shy fly?\"\n",
    "'''\n",
    "\n",
    "def reverse_vowels(s):\n",
    "    vowels = \"aeiou\"\n",
    "    string = list(s)\n",
    "    i, j = 0, len(s) - 1\n",
    "    while i < j:\n",
    "        if string[i].lower() not in vowels:\n",
    "            i += 1\n",
    "        elif string[j].lower() not in vowels:\n",
    "            j -= 1\n",
    "        else:\n",
    "            string[i], string[j] = string[j], string[i]\n",
    "            i += 1\n",
    "            j -= 1\n",
    "    return \"\".join(string)\n",
    "        \n",
    "reverse_vowels(\"Reverse Vowels In A String\")        \n",
    "        "
   ]
  },
  {
   "cell_type": "markdown",
   "metadata": {},
   "source": [
    "Write a function called **three_odd_numbers**, which accepts a list of numbers and returns True if any three consecutive numbers sum to an odd number."
   ]
  },
  {
   "cell_type": "code",
   "execution_count": 23,
   "metadata": {},
   "outputs": [
    {
     "name": "stdout",
     "output_type": "stream",
     "text": [
      "[1, 2, 3]\n",
      "[2, 3, 3]\n",
      "[3, 3, 2]\n"
     ]
    },
    {
     "data": {
      "text/plain": [
       "False"
      ]
     },
     "execution_count": 23,
     "metadata": {},
     "output_type": "execute_result"
    }
   ],
   "source": [
    "'''\n",
    "three_odd_numbers([1,2,3,4,5]) # True\n",
    "three_odd_numbers([0,-2,4,1,9,12,4,1,0]) # True\n",
    "three_odd_numbers([5,2,1]) # False\n",
    "three_odd_numbers([1,2,3,3,2]) # False\n",
    "'''\n",
    "\n",
    "def three_odd_numbers(var):\n",
    "    cnt = 0\n",
    "    i = 0\n",
    "    while i < len(var):\n",
    "        res = var[cnt:cnt+3]\n",
    "        if len(res) == 3:\n",
    "#             print(res)\n",
    "            if sum(res) % 2 == 0:\n",
    "                i += 1\n",
    "                cnt += 1\n",
    "            else:\n",
    "                return True\n",
    "        else:\n",
    "            break\n",
    "    return False\n",
    "\n",
    "three_odd_numbers([1,2,3,3,2])\n",
    "        "
   ]
  },
  {
   "cell_type": "markdown",
   "metadata": {},
   "source": [
    "Write a function called **mode**. This function accepts a list of numbers and returns the most frequent mode in the list of numbers. You can assume that the mode will be unique."
   ]
  },
  {
   "cell_type": "code",
   "execution_count": 26,
   "metadata": {},
   "outputs": [
    {
     "name": "stdout",
     "output_type": "stream",
     "text": [
      "1 shows up in list 1 times\n",
      "2 shows up in list 2 times\n",
      "3 shows up in list 2 times\n",
      "4 shows up in list 7 times\n",
      "5 shows up in list 1 times\n",
      "6 shows up in list 2 times\n",
      "7 shows up in list 1 times\n"
     ]
    }
   ],
   "source": [
    "'''\n",
    "mode([2,4,1,2,3,3,4,4,5,4,4,6,4,6,7,4]) # 4\n",
    "'''\n",
    "def mode(var):\n",
    "    cntset = set(var)\n",
    "    mx = 0\n",
    "    for i in cntset:\n",
    "        print(f\"{i} shows up in list {var.count(i)} times\")\n",
    "        if \n",
    "    \n",
    "mode([2,4,1,2,3,3,4,4,5,4,4,6,4,6,7,4])"
   ]
  }
 ],
 "metadata": {
  "kernelspec": {
   "display_name": "Python 3",
   "language": "python",
   "name": "python3"
  },
  "language_info": {
   "codemirror_mode": {
    "name": "ipython",
    "version": 3
   },
   "file_extension": ".py",
   "mimetype": "text/x-python",
   "name": "python",
   "nbconvert_exporter": "python",
   "pygments_lexer": "ipython3",
   "version": "3.7.4"
  }
 },
 "nbformat": 4,
 "nbformat_minor": 2
}
