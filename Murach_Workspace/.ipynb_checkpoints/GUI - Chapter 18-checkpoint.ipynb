{
 "cells": [
  {
   "cell_type": "code",
   "execution_count": null,
   "metadata": {},
   "outputs": [],
   "source": [
    "import tkinter as ttk\n",
    "# How to create an empty root window\n",
    "root = ttk.Tk()\n",
    "root.title(\"Future Value Calculator\")\n",
    "root.geometry(\"300x200\")\n",
    "# How to make the root window visible\n",
    "root.mainloop()"
   ]
  },
  {
   "cell_type": "code",
   "execution_count": null,
   "metadata": {},
   "outputs": [],
   "source": [
    "#How to create the ttk module from the tkinter module\n",
    "frame = ttk.Frame(root, padding=\"10 10 10 10\")\n",
    "# frame.pack(fill=ttk.BOTH, expand=True)"
   ]
  },
  {
   "cell_type": "code",
   "execution_count": null,
   "metadata": {},
   "outputs": [],
   "source": []
  }
 ],
 "metadata": {
  "kernelspec": {
   "display_name": "Python 3",
   "language": "python",
   "name": "python3"
  },
  "language_info": {
   "codemirror_mode": {
    "name": "ipython",
    "version": 3
   },
   "file_extension": ".py",
   "mimetype": "text/x-python",
   "name": "python",
   "nbconvert_exporter": "python",
   "pygments_lexer": "ipython3",
   "version": "3.7.4"
  }
 },
 "nbformat": 4,
 "nbformat_minor": 2
}
