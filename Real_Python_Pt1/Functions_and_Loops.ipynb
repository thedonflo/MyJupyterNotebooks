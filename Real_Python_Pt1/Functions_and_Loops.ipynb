{
 "cells": [
  {
   "cell_type": "markdown",
   "metadata": {},
   "source": [
    "# Assignment: Perform calculations on user input\n",
    "\n",
    "Write a script called exponent.py that receives two numbers from the user and displays\n",
    "the result of taking the first number to the power of the second number. A sample run of\n",
    "the program should look like this (with example input that has been provided by the user\n",
    "included below):\n",
    "\n",
    "Enter a base: 1.2\n",
    "\n",
    "Enter an exponent: 3\n",
    "\n",
    "1.2 to the power of 3 = 1.728\n"
   ]
  },
  {
   "cell_type": "code",
   "execution_count": 5,
   "metadata": {},
   "outputs": [
    {
     "name": "stdout",
     "output_type": "stream",
     "text": [
      "Enter a base: 1.2\n",
      "Enter an exponent: 3\n",
      "1.2 to the power of 3.0 = 1.728\n"
     ]
    }
   ],
   "source": [
    "base = float(input(\"Enter a base: \"))\n",
    "exp = float(input(\"Enter an exponent: \"))\n",
    "answer = base**exp\n",
    "print(f\"{base} to the power of {exp} = {round(answer,3)}\")"
   ]
  },
  {
   "cell_type": "markdown",
   "metadata": {},
   "source": [
    "# Review exercise:\n",
    "\n",
    "1. Write a __cube()__ function that takes a number and multiplies that number by itself\n",
    "twice over, returning the new value; test the function by displaying the result of\n",
    "calling your __cube()__ function on a few different numbers\n",
    "\n",
    "2. Write a function __multiply()__ that takes two numbers as inputs and multiplies them\n",
    "Functions Summary\n",
    "together, returning the result; test your function by saving the result of __multiply(2,\n",
    "5)__ in a new variable and printing it"
   ]
  },
  {
   "cell_type": "code",
   "execution_count": 6,
   "metadata": {},
   "outputs": [],
   "source": [
    "def cube(num):\n",
    "    num = num**num*num\n",
    "    return num"
   ]
  },
  {
   "cell_type": "code",
   "execution_count": 7,
   "metadata": {},
   "outputs": [
    {
     "data": {
      "text/plain": [
       "8"
      ]
     },
     "execution_count": 7,
     "metadata": {},
     "output_type": "execute_result"
    }
   ],
   "source": [
    "cube(2)"
   ]
  },
  {
   "cell_type": "code",
   "execution_count": 8,
   "metadata": {},
   "outputs": [],
   "source": [
    "def multiply(num1, num2):\n",
    "    val = num1*num2\n",
    "    return val"
   ]
  },
  {
   "cell_type": "code",
   "execution_count": 9,
   "metadata": {},
   "outputs": [
    {
     "data": {
      "text/plain": [
       "10"
      ]
     },
     "execution_count": 9,
     "metadata": {},
     "output_type": "execute_result"
    }
   ],
   "source": [
    "multiply(2,5)"
   ]
  },
  {
   "cell_type": "markdown",
   "metadata": {},
   "source": [
    "# Assignment: Convert temperatures\n",
    "Write a script temperature.py that includes two functions. One function takes a Celsius\n",
    "temperature as its input, converts that number into the equivalent Fahrenheit\n",
    "temperature and returns that value. The second function takes a Fahrenheit temperature\n",
    "and returns the equivalent Celsius temperature. Test your functions by passing input\n",
    "values to them and printing the output results.\n",
    "\n",
    "For testing your functions, example output should look like:\n",
    "\n",
    "__72 degrees F = 22.2222222222 degrees C__\n",
    "\n",
    "__37 degrees C = 98.6 degrees F__"
   ]
  },
  {
   "cell_type": "code",
   "execution_count": 10,
   "metadata": {},
   "outputs": [],
   "source": [
    "def to_farenheit(num):\n",
    "    farenheit = num * 9/5 + 32\n",
    "    return f\"{num} degrees C = {farenheit} degrees F\"\n",
    "\n",
    "def to_celcius(num):\n",
    "    celcius = (num - 32) * 5/9\n",
    "    return f\"{num} degrees F = {celcius} degrees C\""
   ]
  },
  {
   "cell_type": "code",
   "execution_count": 12,
   "metadata": {},
   "outputs": [
    {
     "name": "stdout",
     "output_type": "stream",
     "text": [
      "37 degrees C = 98.6 degrees F\n",
      "72 degrees F = 22.22222222222222 degrees C\n"
     ]
    }
   ],
   "source": [
    "print(to_farenheit(37))\n",
    "print(to_celcius(72))                   "
   ]
  }
 ],
 "metadata": {
  "kernelspec": {
   "display_name": "Python 3",
   "language": "python",
   "name": "python3"
  },
  "language_info": {
   "codemirror_mode": {
    "name": "ipython",
    "version": 3
   },
   "file_extension": ".py",
   "mimetype": "text/x-python",
   "name": "python",
   "nbconvert_exporter": "python",
   "pygments_lexer": "ipython3",
   "version": "3.7.4"
  }
 },
 "nbformat": 4,
 "nbformat_minor": 2
}
