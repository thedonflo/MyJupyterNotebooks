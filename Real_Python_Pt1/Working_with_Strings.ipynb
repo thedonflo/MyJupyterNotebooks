{
 "cells": [
  {
   "cell_type": "markdown",
   "metadata": {},
   "source": [
    "# Review exercises 1:\n",
    "1. Create a \"float\" object (a decimal number) named weight that holds the value 0.2,\n",
    "and create a string object named animal that holds the value \"newt\", then use\n",
    "these objects to print the following line without using the format() string method:\n",
    "0.2 kg is the weight of the newt.\n",
    "2. Display the same line using format() and empty {} place-holders\n",
    "3. Display the same line using {} place-holders that use the index numbers of the\n",
    "inputs provided to the format() method\n",
    "4. Display the same line by creating new string and float objects inside of the\n",
    "format() method\n",
    "5. Display the same line by creating a formatted string literal that directly uses the\n",
    "weight and animal variables"
   ]
  },
  {
   "cell_type": "code",
   "execution_count": 41,
   "metadata": {},
   "outputs": [
    {
     "name": "stdout",
     "output_type": "stream",
     "text": [
      "0.2 kg is the weight of the newt\n",
      "0.2 kg is the weight of the newt\n",
      "0.2 kg is the weight of the newt\n",
      "0.2 kg is the weight of the newt\n",
      "0.2 kg is the weight of the newt\n"
     ]
    }
   ],
   "source": [
    "# 1.\n",
    "weight = 0.2\n",
    "animal = 'newt'\n",
    "print(str(weight)+\" kg is the weight of the \"+animal)\n",
    "# 02.\n",
    "print(\"{} kg is the weight of the {}\".format(weight,animal))\n",
    "# 03.\n",
    "print(\"{0} kg is the weight of the {1}\".format(weight,animal))\n",
    "# 04.\n",
    "print(\"{weight} kg is the weight of the {animal}\".format(weight=0.2,animal='newt'))\n",
    "# 5.\n",
    "print(f\"{weight} kg is the weight of the {animal}\")"
   ]
  },
  {
   "cell_type": "markdown",
   "metadata": {},
   "source": [
    "# Review exercises 2:\n",
    "1. In one line, display the result of trying to find() the substring \"a\" in the string\n",
    "\"AAA\"; the result should be -1\n",
    "2. Create a string object that contains the value \"version 2.0\"; find() the first\n",
    "occurrence of the number 2.0 inside of this string by first creating a \"float\" object that\n",
    "stores the value 2.0 as a floating-point number, then converting that object to a\n",
    "string using the str() function\n",
    "3. Write and test a script that accepts user input using input() , then displays the\n",
    "result of trying to find() a particular letter in that input"
   ]
  },
  {
   "cell_type": "code",
   "execution_count": 46,
   "metadata": {},
   "outputs": [
    {
     "data": {
      "text/plain": [
       "8"
      ]
     },
     "execution_count": 46,
     "metadata": {},
     "output_type": "execute_result"
    }
   ],
   "source": [
    "# 1.\n",
    "\"AAA\".find('a')\n",
    "# 2.\n",
    "var = \"version 2.0\"\n",
    "flt = str(2.0)\n",
    "var.find(flt)\n",
    "# 3.\n",
    "user = input(\"Please provide your string to check: \")"
   ]
  },
  {
   "cell_type": "markdown",
   "metadata": {},
   "source": [
    "# Assignment: Turn your user into a l33t h4x0r\n",
    "Write a script _translate.py_ that asks the user for some input with the following prompt:\n",
    "\n",
    "Enter some text:\n",
    "\n",
    "You should then use the replace() method to convert the text entered by the user into\n",
    "\"leetspeak\" by making the following changes to lower-case letters:\n",
    " - The letter: a becomes: 4\n",
    " - The letter: b becomes: 8\n",
    " - The letter: e becomes: 3\n",
    " - The letter: l becomes: 1\n",
    " - The letter: o becomes: 0\n",
    " - The letter: s becomes: 5\n",
    " - The letter: t becomes: 7"
   ]
  },
  {
   "cell_type": "code",
   "execution_count": 2,
   "metadata": {},
   "outputs": [
    {
     "name": "stdout",
     "output_type": "stream",
     "text": [
      "Enter some text: I like to eat eggs and spam.\n",
      "I 1ik3 70 347 3gg5 4nd 5p4m.\n"
     ]
    }
   ],
   "source": [
    "user_input = input(\"Enter some text: \")\n",
    "user_input = user_input.replace('a','4').replace('b','8').replace('e','3').replace('l','1').replace('o','0').replace('s','5').replace('t','7')\n",
    "print(user_input)"
   ]
  }
 ],
 "metadata": {
  "kernelspec": {
   "display_name": "Python 3",
   "language": "python",
   "name": "python3"
  },
  "language_info": {
   "codemirror_mode": {
    "name": "ipython",
    "version": 3
   },
   "file_extension": ".py",
   "mimetype": "text/x-python",
   "name": "python",
   "nbconvert_exporter": "python",
   "pygments_lexer": "ipython3",
   "version": "3.7.4"
  }
 },
 "nbformat": 4,
 "nbformat_minor": 2
}
