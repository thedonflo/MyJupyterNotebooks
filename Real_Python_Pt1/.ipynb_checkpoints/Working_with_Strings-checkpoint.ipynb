{
 "cells": [
  {
   "cell_type": "markdown",
   "metadata": {},
   "source": [
    "# Assignment: Turn your user into a l33t h4x0r\n",
    "Write a script _translate.py_ that asks the user for some input with the following prompt:\n",
    "\n",
    "Enter some text:\n",
    "\n",
    "You should then use the replace() method to convert the text entered by the user into\n",
    "\"leetspeak\" by making the following changes to lower-case letters:\n",
    " - The letter: a becomes: 4\n",
    " - The letter: b becomes: 8\n",
    " - The letter: e becomes: 3\n",
    " - The letter: l becomes: 1\n",
    " - The letter: o becomes: 0\n",
    " - The letter: s becomes: 5\n",
    " - The letter: t becomes: 7"
   ]
  },
  {
   "cell_type": "code",
   "execution_count": 2,
   "metadata": {},
   "outputs": [
    {
     "name": "stdout",
     "output_type": "stream",
     "text": [
      "Enter some text: I like to eat eggs and spam.\n",
      "I 1ik3 70 347 3gg5 4nd 5p4m.\n"
     ]
    }
   ],
   "source": [
    "user_input = input(\"Enter some text: \")\n",
    "user_input = user_input.replace('a','4').replace('b','8').replace('e','3').replace('l','1').replace('o','0').replace('s','5').replace('t','7')\n",
    "print(user_input)"
   ]
  }
 ],
 "metadata": {
  "kernelspec": {
   "display_name": "Python 3",
   "language": "python",
   "name": "python3"
  },
  "language_info": {
   "codemirror_mode": {
    "name": "ipython",
    "version": 3
   },
   "file_extension": ".py",
   "mimetype": "text/x-python",
   "name": "python",
   "nbconvert_exporter": "python",
   "pygments_lexer": "ipython3",
   "version": "3.7.4"
  }
 },
 "nbformat": 4,
 "nbformat_minor": 2
}
