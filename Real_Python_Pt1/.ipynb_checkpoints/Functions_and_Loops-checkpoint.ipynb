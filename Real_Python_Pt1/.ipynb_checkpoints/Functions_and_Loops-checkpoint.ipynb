{
 "cells": [
  {
   "cell_type": "markdown",
   "metadata": {},
   "source": [
    "# Assignment: Perform calculations on user input\n",
    "\n",
    "Write a script called exponent.py that receives two numbers from the user and displays\n",
    "the result of taking the first number to the power of the second number. A sample run of\n",
    "the program should look like this (with example input that has been provided by the user\n",
    "included below):\n",
    "\n",
    "Enter a base: 1.2\n",
    "Enter an exponent: 3\n",
    "1.2 to the power of 3 = 1.728\n"
   ]
  }
 ],
 "metadata": {
  "kernelspec": {
   "display_name": "Python 3",
   "language": "python",
   "name": "python3"
  },
  "language_info": {
   "codemirror_mode": {
    "name": "ipython",
    "version": 3
   },
   "file_extension": ".py",
   "mimetype": "text/x-python",
   "name": "python",
   "nbconvert_exporter": "python",
   "pygments_lexer": "ipython3",
   "version": "3.7.4"
  }
 },
 "nbformat": 4,
 "nbformat_minor": 2
}
