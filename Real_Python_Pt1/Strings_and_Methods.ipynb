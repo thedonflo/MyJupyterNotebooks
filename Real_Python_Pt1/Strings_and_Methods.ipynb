{
 "cells": [
  {
   "cell_type": "markdown",
   "metadata": {},
   "source": [
    "\n",
    "# Assignment\n",
    "\n",
    "Write a script named first_letter.py that first prompts the user for input by using the\n",
    "string: __Tell me your password:__\n",
    "\n",
    "The script should then determine the first letter of the user's input, convert that letter to\n",
    "upper-case, and display it back. As an example, if the user input was \"no\" then the\n",
    "program should respond like this: The first letter you entered was: N\n",
    "\n",
    "For now, it's okay if your program crashes when the user enters nothing as input (just\n",
    "hitting ENTER instead). We'll find out a couple ways you could deal with this situation in\n",
    "an upcoming chapter"
   ]
  },
  {
   "cell_type": "code",
   "execution_count": 4,
   "metadata": {
    "scrolled": true
   },
   "outputs": [
    {
     "name": "stdout",
     "output_type": "stream",
     "text": [
      "Tell me your password: notatall\n",
      "The first letter was: N\n"
     ]
    }
   ],
   "source": [
    "password = input(\"Tell me your password: \")\n",
    "password = password.upper()\n",
    "print(\"The first letter was: {}\".format(password[0]))"
   ]
  },
  {
   "cell_type": "code",
   "execution_count": null,
   "metadata": {},
   "outputs": [],
   "source": []
  }
 ],
 "metadata": {
  "kernelspec": {
   "display_name": "Python 3",
   "language": "python",
   "name": "python3"
  },
  "language_info": {
   "codemirror_mode": {
    "name": "ipython",
    "version": 3
   },
   "file_extension": ".py",
   "mimetype": "text/x-python",
   "name": "python",
   "nbconvert_exporter": "python",
   "pygments_lexer": "ipython3",
   "version": "3.7.4"
  }
 },
 "nbformat": 4,
 "nbformat_minor": 2
}
